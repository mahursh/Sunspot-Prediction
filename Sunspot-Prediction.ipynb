{
  "cells": [
    {
      "cell_type": "markdown",
      "source": [
        " <img src=\"https://c02.purpledshub.com/uploads/sites/48/2024/05/solar-flare-10-may-2024.jpg?webp=1&w=1200\" width=\"400\">"
      ],
      "metadata": {
        "id": "-SyssFUxsn4K"
      }
    },
    {
      "cell_type": "markdown",
      "source": [
        "\n",
        "\n",
        "> One intersting aspect of the Sun is its sunspots. Sunspots are areas where the magnetic field is about 2,500 times stronger than Earth's, much higher than anywhere else on the Sun. Because of the strong magnetic field, the magnetic pressure increases while the surrounding atmospheric pressure decreases. This in turn lowers the temperature relative to its surroundings because the conencentrated magnetic field inhibits the flow of hot, new gas from the Sun's interior to the surface.\n",
        "\n",
        "\n",
        ">Sumspots tend to occur in pairs that have magnetic fields pointing in opposite directions. A typical spot consists of the dark region called the umbra, surrounded by a lighter region known as the peumbra. The sunspots appear relatively dark because the surrounding surface of the sun (the photospher) is about 10,000 degrees F., while the umbra is about 6,300 degrees F. Sunspots are quite large as an average size about the same size as the Earth.\n",
        "\n",
        "\n",
        ">Sunspots increase and decrease, then again increases and decreases through an average cycle of 11 years. Solar cycle 1 was the first solar cycle since extensive recording of solar suspot activity began in 1755 and we have experienced a total of 24 full solar cycle since then. Currently, we are in 25th solar cycle, the solar cycle 25 began in December 2019 and is expected to last till more 11 years that is about 2030.\n"
      ],
      "metadata": {
        "id": "afRD4xbLDk_M"
      }
    },
    {
      "cell_type": "markdown",
      "source": [
        "\n",
        "\n",
        "<div align=\"center\">\n",
        "<img src=\"\n",
        "https://www.cosmos.esa.int/documents/519784/530468/Sunspot+case+web+image/e505728f-9b2a-4192-8ba3-3f6243a59b7b?t=1475670734908\" width=\"400\">\n",
        "</div>\n",
        "\n",
        "\n",
        "\n",
        "\n"
      ],
      "metadata": {
        "id": "z_0HaZKBDmhQ"
      }
    },
    {
      "cell_type": "code",
      "source": [],
      "metadata": {
        "id": "oVgp1BROqiPB"
      },
      "execution_count": null,
      "outputs": []
    }
  ],
  "metadata": {
    "colab": {
      "provenance": []
    },
    "kernelspec": {
      "display_name": "Python 3",
      "name": "python3"
    },
    "language_info": {
      "name": "python"
    }
  },
  "nbformat": 4,
  "nbformat_minor": 0
}